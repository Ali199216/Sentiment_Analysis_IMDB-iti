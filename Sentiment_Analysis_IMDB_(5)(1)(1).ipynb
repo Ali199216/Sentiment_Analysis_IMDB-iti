{
  "metadata": {
    "kernelspec": {
      "display_name": "Python 3",
      "name": "python3"
    },
    "language_info": {
      "name": "python",
      "version": "3.11.13",
      "mimetype": "text/x-python",
      "codemirror_mode": {
        "name": "ipython",
        "version": 3
      },
      "pygments_lexer": "ipython3",
      "nbconvert_exporter": "python",
      "file_extension": ".py"
    },
    "kaggle": {
      "accelerator": "nvidiaTeslaT4",
      "dataSources": [
        {
          "sourceId": 320111,
          "sourceType": "datasetVersion",
          "datasetId": 134715
        }
      ],
      "dockerImageVersionId": 31089,
      "isInternetEnabled": false,
      "language": "python",
      "sourceType": "notebook",
      "isGpuEnabled": true
    },
    "colab": {
      "provenance": [],
      "gpuType": "T4"
    },
    "accelerator": "GPU"
  },
  "nbformat_minor": 0,
  "nbformat": 4,
  "cells": [
    {
      "cell_type": "markdown",
      "source": [
        "# Import Libraries"
      ],
      "metadata": {
        "id": "dOJe14BEe0WR"
      }
    },
    {
      "cell_type": "code",
      "source": [
        "import numpy as np\n",
        "import pandas as pd\n",
        "import re\n",
        "import nltk\n",
        "from nltk.tokenize import word_tokenize\n",
        "from nltk.stem import PorterStemmer\n",
        "import spacy\n",
        "from sklearn.model_selection import train_test_split\n",
        "from sklearn.feature_extraction.text import CountVectorizer, TfidfVectorizer"
      ],
      "metadata": {
        "trusted": true,
        "execution": {
          "iopub.status.busy": "2025-08-13T15:14:48.835698Z",
          "iopub.execute_input": "2025-08-13T15:14:48.836005Z",
          "iopub.status.idle": "2025-08-13T15:14:48.840686Z",
          "shell.execute_reply.started": "2025-08-13T15:14:48.835983Z",
          "shell.execute_reply": "2025-08-13T15:14:48.839891Z"
        },
        "id": "KMkp51Sve0WS"
      },
      "outputs": [],
      "execution_count": 1
    },
    {
      "cell_type": "markdown",
      "source": [
        "# Load Data & EDA"
      ],
      "metadata": {
        "id": "tJLv2Zfte0WS"
      }
    },
    {
      "cell_type": "code",
      "source": [
        "import kagglehub\n",
        "imdb_dataset_of_50k_movie_reviews_path = kagglehub.dataset_download('lakshmi25npathi/imdb-dataset-of-50k-movie-reviews')\n",
        "\n",
        "print('Data source import complete.')\n"
      ],
      "metadata": {
        "id": "vrLoGlS-_3Wk",
        "colab": {
          "base_uri": "https://localhost:8080/"
        },
        "outputId": "65e54a1c-6f92-4e86-beb2-4a39715b8560"
      },
      "execution_count": 2,
      "outputs": [
        {
          "output_type": "stream",
          "name": "stdout",
          "text": [
            "Data source import complete.\n"
          ]
        }
      ]
    },
    {
      "cell_type": "code",
      "source": [
        "df = pd.read_csv('/kaggle/input/imdb-dataset-of-50k-movie-reviews/IMDB Dataset.csv')\n",
        "df.head(5)"
      ],
      "metadata": {
        "trusted": true,
        "execution": {
          "iopub.status.busy": "2025-08-13T15:09:34.861746Z",
          "iopub.execute_input": "2025-08-13T15:09:34.862204Z",
          "iopub.status.idle": "2025-08-13T15:09:36.333972Z",
          "shell.execute_reply.started": "2025-08-13T15:09:34.862183Z",
          "shell.execute_reply": "2025-08-13T15:09:36.333222Z"
        },
        "id": "GYyhQ0T8e0WT",
        "outputId": "de66baa2-e86c-449a-d200-337fb359caab",
        "colab": {
          "base_uri": "https://localhost:8080/",
          "height": 206
        }
      },
      "outputs": [
        {
          "output_type": "execute_result",
          "data": {
            "text/plain": [
              "                                              review sentiment\n",
              "0  One of the other reviewers has mentioned that ...  positive\n",
              "1  A wonderful little production. <br /><br />The...  positive\n",
              "2  I thought this was a wonderful way to spend ti...  positive\n",
              "3  Basically there's a family where a little boy ...  negative\n",
              "4  Petter Mattei's \"Love in the Time of Money\" is...  positive"
            ],
            "text/html": [
              "\n",
              "  <div id=\"df-0b7aaed9-cf19-4875-98ad-f6e8266ed492\" class=\"colab-df-container\">\n",
              "    <div>\n",
              "<style scoped>\n",
              "    .dataframe tbody tr th:only-of-type {\n",
              "        vertical-align: middle;\n",
              "    }\n",
              "\n",
              "    .dataframe tbody tr th {\n",
              "        vertical-align: top;\n",
              "    }\n",
              "\n",
              "    .dataframe thead th {\n",
              "        text-align: right;\n",
              "    }\n",
              "</style>\n",
              "<table border=\"1\" class=\"dataframe\">\n",
              "  <thead>\n",
              "    <tr style=\"text-align: right;\">\n",
              "      <th></th>\n",
              "      <th>review</th>\n",
              "      <th>sentiment</th>\n",
              "    </tr>\n",
              "  </thead>\n",
              "  <tbody>\n",
              "    <tr>\n",
              "      <th>0</th>\n",
              "      <td>One of the other reviewers has mentioned that ...</td>\n",
              "      <td>positive</td>\n",
              "    </tr>\n",
              "    <tr>\n",
              "      <th>1</th>\n",
              "      <td>A wonderful little production. &lt;br /&gt;&lt;br /&gt;The...</td>\n",
              "      <td>positive</td>\n",
              "    </tr>\n",
              "    <tr>\n",
              "      <th>2</th>\n",
              "      <td>I thought this was a wonderful way to spend ti...</td>\n",
              "      <td>positive</td>\n",
              "    </tr>\n",
              "    <tr>\n",
              "      <th>3</th>\n",
              "      <td>Basically there's a family where a little boy ...</td>\n",
              "      <td>negative</td>\n",
              "    </tr>\n",
              "    <tr>\n",
              "      <th>4</th>\n",
              "      <td>Petter Mattei's \"Love in the Time of Money\" is...</td>\n",
              "      <td>positive</td>\n",
              "    </tr>\n",
              "  </tbody>\n",
              "</table>\n",
              "</div>\n",
              "    <div class=\"colab-df-buttons\">\n",
              "\n",
              "  <div class=\"colab-df-container\">\n",
              "    <button class=\"colab-df-convert\" onclick=\"convertToInteractive('df-0b7aaed9-cf19-4875-98ad-f6e8266ed492')\"\n",
              "            title=\"Convert this dataframe to an interactive table.\"\n",
              "            style=\"display:none;\">\n",
              "\n",
              "  <svg xmlns=\"http://www.w3.org/2000/svg\" height=\"24px\" viewBox=\"0 -960 960 960\">\n",
              "    <path d=\"M120-120v-720h720v720H120Zm60-500h600v-160H180v160Zm220 220h160v-160H400v160Zm0 220h160v-160H400v160ZM180-400h160v-160H180v160Zm440 0h160v-160H620v160ZM180-180h160v-160H180v160Zm440 0h160v-160H620v160Z\"/>\n",
              "  </svg>\n",
              "    </button>\n",
              "\n",
              "  <style>\n",
              "    .colab-df-container {\n",
              "      display:flex;\n",
              "      gap: 12px;\n",
              "    }\n",
              "\n",
              "    .colab-df-convert {\n",
              "      background-color: #E8F0FE;\n",
              "      border: none;\n",
              "      border-radius: 50%;\n",
              "      cursor: pointer;\n",
              "      display: none;\n",
              "      fill: #1967D2;\n",
              "      height: 32px;\n",
              "      padding: 0 0 0 0;\n",
              "      width: 32px;\n",
              "    }\n",
              "\n",
              "    .colab-df-convert:hover {\n",
              "      background-color: #E2EBFA;\n",
              "      box-shadow: 0px 1px 2px rgba(60, 64, 67, 0.3), 0px 1px 3px 1px rgba(60, 64, 67, 0.15);\n",
              "      fill: #174EA6;\n",
              "    }\n",
              "\n",
              "    .colab-df-buttons div {\n",
              "      margin-bottom: 4px;\n",
              "    }\n",
              "\n",
              "    [theme=dark] .colab-df-convert {\n",
              "      background-color: #3B4455;\n",
              "      fill: #D2E3FC;\n",
              "    }\n",
              "\n",
              "    [theme=dark] .colab-df-convert:hover {\n",
              "      background-color: #434B5C;\n",
              "      box-shadow: 0px 1px 3px 1px rgba(0, 0, 0, 0.15);\n",
              "      filter: drop-shadow(0px 1px 2px rgba(0, 0, 0, 0.3));\n",
              "      fill: #FFFFFF;\n",
              "    }\n",
              "  </style>\n",
              "\n",
              "    <script>\n",
              "      const buttonEl =\n",
              "        document.querySelector('#df-0b7aaed9-cf19-4875-98ad-f6e8266ed492 button.colab-df-convert');\n",
              "      buttonEl.style.display =\n",
              "        google.colab.kernel.accessAllowed ? 'block' : 'none';\n",
              "\n",
              "      async function convertToInteractive(key) {\n",
              "        const element = document.querySelector('#df-0b7aaed9-cf19-4875-98ad-f6e8266ed492');\n",
              "        const dataTable =\n",
              "          await google.colab.kernel.invokeFunction('convertToInteractive',\n",
              "                                                    [key], {});\n",
              "        if (!dataTable) return;\n",
              "\n",
              "        const docLinkHtml = 'Like what you see? Visit the ' +\n",
              "          '<a target=\"_blank\" href=https://colab.research.google.com/notebooks/data_table.ipynb>data table notebook</a>'\n",
              "          + ' to learn more about interactive tables.';\n",
              "        element.innerHTML = '';\n",
              "        dataTable['output_type'] = 'display_data';\n",
              "        await google.colab.output.renderOutput(dataTable, element);\n",
              "        const docLink = document.createElement('div');\n",
              "        docLink.innerHTML = docLinkHtml;\n",
              "        element.appendChild(docLink);\n",
              "      }\n",
              "    </script>\n",
              "  </div>\n",
              "\n",
              "\n",
              "    <div id=\"df-489534e9-affd-449b-add3-3dd6d792f720\">\n",
              "      <button class=\"colab-df-quickchart\" onclick=\"quickchart('df-489534e9-affd-449b-add3-3dd6d792f720')\"\n",
              "                title=\"Suggest charts\"\n",
              "                style=\"display:none;\">\n",
              "\n",
              "<svg xmlns=\"http://www.w3.org/2000/svg\" height=\"24px\"viewBox=\"0 0 24 24\"\n",
              "     width=\"24px\">\n",
              "    <g>\n",
              "        <path d=\"M19 3H5c-1.1 0-2 .9-2 2v14c0 1.1.9 2 2 2h14c1.1 0 2-.9 2-2V5c0-1.1-.9-2-2-2zM9 17H7v-7h2v7zm4 0h-2V7h2v10zm4 0h-2v-4h2v4z\"/>\n",
              "    </g>\n",
              "</svg>\n",
              "      </button>\n",
              "\n",
              "<style>\n",
              "  .colab-df-quickchart {\n",
              "      --bg-color: #E8F0FE;\n",
              "      --fill-color: #1967D2;\n",
              "      --hover-bg-color: #E2EBFA;\n",
              "      --hover-fill-color: #174EA6;\n",
              "      --disabled-fill-color: #AAA;\n",
              "      --disabled-bg-color: #DDD;\n",
              "  }\n",
              "\n",
              "  [theme=dark] .colab-df-quickchart {\n",
              "      --bg-color: #3B4455;\n",
              "      --fill-color: #D2E3FC;\n",
              "      --hover-bg-color: #434B5C;\n",
              "      --hover-fill-color: #FFFFFF;\n",
              "      --disabled-bg-color: #3B4455;\n",
              "      --disabled-fill-color: #666;\n",
              "  }\n",
              "\n",
              "  .colab-df-quickchart {\n",
              "    background-color: var(--bg-color);\n",
              "    border: none;\n",
              "    border-radius: 50%;\n",
              "    cursor: pointer;\n",
              "    display: none;\n",
              "    fill: var(--fill-color);\n",
              "    height: 32px;\n",
              "    padding: 0;\n",
              "    width: 32px;\n",
              "  }\n",
              "\n",
              "  .colab-df-quickchart:hover {\n",
              "    background-color: var(--hover-bg-color);\n",
              "    box-shadow: 0 1px 2px rgba(60, 64, 67, 0.3), 0 1px 3px 1px rgba(60, 64, 67, 0.15);\n",
              "    fill: var(--button-hover-fill-color);\n",
              "  }\n",
              "\n",
              "  .colab-df-quickchart-complete:disabled,\n",
              "  .colab-df-quickchart-complete:disabled:hover {\n",
              "    background-color: var(--disabled-bg-color);\n",
              "    fill: var(--disabled-fill-color);\n",
              "    box-shadow: none;\n",
              "  }\n",
              "\n",
              "  .colab-df-spinner {\n",
              "    border: 2px solid var(--fill-color);\n",
              "    border-color: transparent;\n",
              "    border-bottom-color: var(--fill-color);\n",
              "    animation:\n",
              "      spin 1s steps(1) infinite;\n",
              "  }\n",
              "\n",
              "  @keyframes spin {\n",
              "    0% {\n",
              "      border-color: transparent;\n",
              "      border-bottom-color: var(--fill-color);\n",
              "      border-left-color: var(--fill-color);\n",
              "    }\n",
              "    20% {\n",
              "      border-color: transparent;\n",
              "      border-left-color: var(--fill-color);\n",
              "      border-top-color: var(--fill-color);\n",
              "    }\n",
              "    30% {\n",
              "      border-color: transparent;\n",
              "      border-left-color: var(--fill-color);\n",
              "      border-top-color: var(--fill-color);\n",
              "      border-right-color: var(--fill-color);\n",
              "    }\n",
              "    40% {\n",
              "      border-color: transparent;\n",
              "      border-right-color: var(--fill-color);\n",
              "      border-top-color: var(--fill-color);\n",
              "    }\n",
              "    60% {\n",
              "      border-color: transparent;\n",
              "      border-right-color: var(--fill-color);\n",
              "    }\n",
              "    80% {\n",
              "      border-color: transparent;\n",
              "      border-right-color: var(--fill-color);\n",
              "      border-bottom-color: var(--fill-color);\n",
              "    }\n",
              "    90% {\n",
              "      border-color: transparent;\n",
              "      border-bottom-color: var(--fill-color);\n",
              "    }\n",
              "  }\n",
              "</style>\n",
              "\n",
              "      <script>\n",
              "        async function quickchart(key) {\n",
              "          const quickchartButtonEl =\n",
              "            document.querySelector('#' + key + ' button');\n",
              "          quickchartButtonEl.disabled = true;  // To prevent multiple clicks.\n",
              "          quickchartButtonEl.classList.add('colab-df-spinner');\n",
              "          try {\n",
              "            const charts = await google.colab.kernel.invokeFunction(\n",
              "                'suggestCharts', [key], {});\n",
              "          } catch (error) {\n",
              "            console.error('Error during call to suggestCharts:', error);\n",
              "          }\n",
              "          quickchartButtonEl.classList.remove('colab-df-spinner');\n",
              "          quickchartButtonEl.classList.add('colab-df-quickchart-complete');\n",
              "        }\n",
              "        (() => {\n",
              "          let quickchartButtonEl =\n",
              "            document.querySelector('#df-489534e9-affd-449b-add3-3dd6d792f720 button');\n",
              "          quickchartButtonEl.style.display =\n",
              "            google.colab.kernel.accessAllowed ? 'block' : 'none';\n",
              "        })();\n",
              "      </script>\n",
              "    </div>\n",
              "\n",
              "    </div>\n",
              "  </div>\n"
            ],
            "application/vnd.google.colaboratory.intrinsic+json": {
              "type": "dataframe",
              "variable_name": "df",
              "summary": "{\n  \"name\": \"df\",\n  \"rows\": 50000,\n  \"fields\": [\n    {\n      \"column\": \"review\",\n      \"properties\": {\n        \"dtype\": \"string\",\n        \"num_unique_values\": 49582,\n        \"samples\": [\n          \"\\\"Soul Plane\\\" is a horrible attempt at comedy that only should appeal people with thick skulls, bloodshot eyes and furry pawns. <br /><br />The plot is not only incoherent but also non-existent, acting is mostly sub sub-par with a gang of highly moronic and dreadful characters thrown in for bad measure, jokes are often spotted miles ahead and almost never even a bit amusing. This movie lacks any structure and is full of racial stereotypes that must have seemed old even in the fifties, the only thing it really has going for it is some pretty ladies, but really, if you want that you can rent something from the \\\"Adult\\\" section. OK?<br /><br />I can hardly see anything here to recommend since you'll probably have a lot a better and productive time chasing rats with a sledgehammer or inventing waterproof teabags or whatever.<br /><br />2/10\",\n          \"Guest from the Future tells a fascinating story of time travel, friendship, battle of good and evil -- all with a small budget, child actors, and few special effects. Something for Spielberg and Lucas to learn from. ;) A sixth-grader Kolya \\\"Nick\\\" Gerasimov finds a time machine in the basement of a decrepit building and travels 100 years into the future. He discovers a near-perfect, utopian society where robots play guitars and write poetry, everyone is kind to each other and people enjoy everything technology has to offer. Alice is the daughter of a prominent scientist who invented a device called Mielophone that allows to read minds of humans and animals. The device can be put to both good and bad use, depending on whose hands it falls into. When two evil space pirates from Saturn who want to rule the universe attempt to steal Mielophone, it falls into the hands of 20th century school boy Nick. With the pirates hot on his tracks, he travels back to his time, followed by the pirates, and Alice. Chaos, confusion and funny situations follow as the luckless pirates try to blend in with the earthlings. Alice enrolls in the same school Nick goes to and demonstrates superhuman abilities in PE class. The catch is, Alice doesn't know what Nick looks like, while the pirates do. Also, the pirates are able to change their appearance and turn literally into anyone. (Hmm, I wonder if this is where James Cameron got the idea for Terminator...) Who gets to Nick -- and Mielophone -- first? Excellent plot, non-stop adventures, and great soundtrack. I wish Hollywood made kid movies like this one...\",\n          \"\\\"National Treasure\\\" (2004) is a thoroughly misguided hodge-podge of plot entanglements that borrow from nearly every cloak and dagger government conspiracy clich\\u00e9 that has ever been written. The film stars Nicholas Cage as Benjamin Franklin Gates (how precious is that, I ask you?); a seemingly normal fellow who, for no other reason than being of a lineage of like-minded misguided fortune hunters, decides to steal a 'national treasure' that has been hidden by the United States founding fathers. After a bit of subtext and background that plays laughably (unintentionally) like Indiana Jones meets The Patriot, the film degenerates into one misguided whimsy after another \\u0096 attempting to create a 'Stanley Goodspeed' regurgitation of Nicholas Cage and launch the whole convoluted mess forward with a series of high octane, but disconnected misadventures.<br /><br />The relevancy and logic to having George Washington and his motley crew of patriots burying a king's ransom someplace on native soil, and then, going through the meticulous plan of leaving clues scattered throughout U.S. currency art work, is something that director Jon Turteltaub never quite gets around to explaining. Couldn't Washington found better usage for such wealth during the start up of the country? Hence, we are left with a mystery built on top of an enigma that is already on shaky ground by the time Ben appoints himself the new custodian of this untold wealth. Ben's intentions are noble \\u0096 if confusing. He's set on protecting the treasure. For who and when?\\u0085your guess is as good as mine.<br /><br />But there are a few problems with Ben's crusade. First up, his friend, Ian Holmes (Sean Bean) decides that he can't wait for Ben to make up his mind about stealing the Declaration of Independence from the National Archives (oh, yeah \\u0096 brilliant idea!). Presumably, the back of that famous document holds the secret answer to the ultimate fortune. So Ian tries to kill Ben. The assassination attempt is, of course, unsuccessful, if overly melodramatic. It also affords Ben the opportunity to pick up, and pick on, the very sultry curator of the archives, Abigail Chase (Diane Kruger). She thinks Ben is clearly a nut \\u0096 at least at the beginning. But true to action/romance form, Abby's resolve melts quicker than you can say, \\\"is that the Hope Diamond?\\\" The film moves into full X-File-ish mode, as the FBI, mistakenly believing that Ben is behind the theft, retaliate in various benign ways that lead to a multi-layering of action sequences reminiscent of Mission Impossible meets The Fugitive. Honestly, don't those guys ever get 'intelligence' information that is correct? In the final analysis, \\\"National Treasure\\\" isn't great film making, so much as it's a patchwork rehash of tired old bits from other movies, woven together from scraps, the likes of which would make IL' Betsy Ross blush.<br /><br />The Buena Vista DVD delivers a far more generous treatment than this film is deserving of. The anamorphic widescreen picture exhibits a very smooth and finely detailed image with very rich colors, natural flesh tones, solid blacks and clean whites. The stylized image is also free of blemishes and digital enhancements. The audio is 5.1 and delivers a nice sonic boom to your side and rear speakers with intensity and realism. Extras include a host of promotional junket material that is rather deep and over the top in its explanation of how and why this film was made. If only, as an audience, we had had more clarification as to why Ben and co. were chasing after an illusive treasure, this might have been one good flick. Extras conclude with the theatrical trailer, audio commentary and deleted scenes. Not for the faint-hearted \\u0096 just the thick-headed.\"\n        ],\n        \"semantic_type\": \"\",\n        \"description\": \"\"\n      }\n    },\n    {\n      \"column\": \"sentiment\",\n      \"properties\": {\n        \"dtype\": \"category\",\n        \"num_unique_values\": 2,\n        \"samples\": [\n          \"negative\",\n          \"positive\"\n        ],\n        \"semantic_type\": \"\",\n        \"description\": \"\"\n      }\n    }\n  ]\n}"
            }
          },
          "metadata": {},
          "execution_count": 3
        }
      ],
      "execution_count": 3
    },
    {
      "cell_type": "code",
      "source": [
        "df.info()"
      ],
      "metadata": {
        "trusted": true,
        "execution": {
          "iopub.status.busy": "2025-08-13T15:09:36.334761Z",
          "iopub.execute_input": "2025-08-13T15:09:36.335013Z",
          "iopub.status.idle": "2025-08-13T15:09:36.365831Z",
          "shell.execute_reply.started": "2025-08-13T15:09:36.334994Z",
          "shell.execute_reply": "2025-08-13T15:09:36.365055Z"
        },
        "id": "2asViCMoe0WT",
        "colab": {
          "base_uri": "https://localhost:8080/"
        },
        "outputId": "0073d052-059e-4d7e-b4ed-c9c1b7a59e1c"
      },
      "outputs": [
        {
          "output_type": "stream",
          "name": "stdout",
          "text": [
            "<class 'pandas.core.frame.DataFrame'>\n",
            "RangeIndex: 50000 entries, 0 to 49999\n",
            "Data columns (total 2 columns):\n",
            " #   Column     Non-Null Count  Dtype \n",
            "---  ------     --------------  ----- \n",
            " 0   review     50000 non-null  object\n",
            " 1   sentiment  50000 non-null  object\n",
            "dtypes: object(2)\n",
            "memory usage: 781.4+ KB\n"
          ]
        }
      ],
      "execution_count": 4
    },
    {
      "cell_type": "code",
      "source": [
        "df.isna().sum()"
      ],
      "metadata": {
        "trusted": true,
        "execution": {
          "iopub.status.busy": "2025-08-13T15:09:36.366626Z",
          "iopub.execute_input": "2025-08-13T15:09:36.36694Z",
          "iopub.status.idle": "2025-08-13T15:09:36.383125Z",
          "shell.execute_reply.started": "2025-08-13T15:09:36.366919Z",
          "shell.execute_reply": "2025-08-13T15:09:36.382274Z"
        },
        "id": "hahaT5mze0WT",
        "colab": {
          "base_uri": "https://localhost:8080/",
          "height": 147
        },
        "outputId": "84cbca81-f24c-4c8b-b315-39469170ce8e"
      },
      "outputs": [
        {
          "output_type": "execute_result",
          "data": {
            "text/plain": [
              "review       0\n",
              "sentiment    0\n",
              "dtype: int64"
            ],
            "text/html": [
              "<div>\n",
              "<style scoped>\n",
              "    .dataframe tbody tr th:only-of-type {\n",
              "        vertical-align: middle;\n",
              "    }\n",
              "\n",
              "    .dataframe tbody tr th {\n",
              "        vertical-align: top;\n",
              "    }\n",
              "\n",
              "    .dataframe thead th {\n",
              "        text-align: right;\n",
              "    }\n",
              "</style>\n",
              "<table border=\"1\" class=\"dataframe\">\n",
              "  <thead>\n",
              "    <tr style=\"text-align: right;\">\n",
              "      <th></th>\n",
              "      <th>0</th>\n",
              "    </tr>\n",
              "  </thead>\n",
              "  <tbody>\n",
              "    <tr>\n",
              "      <th>review</th>\n",
              "      <td>0</td>\n",
              "    </tr>\n",
              "    <tr>\n",
              "      <th>sentiment</th>\n",
              "      <td>0</td>\n",
              "    </tr>\n",
              "  </tbody>\n",
              "</table>\n",
              "</div><br><label><b>dtype:</b> int64</label>"
            ]
          },
          "metadata": {},
          "execution_count": 5
        }
      ],
      "execution_count": 5
    },
    {
      "cell_type": "markdown",
      "source": [
        "### Splitting Data"
      ],
      "metadata": {
        "id": "7CjBSPyNe0WU"
      }
    },
    {
      "cell_type": "code",
      "source": [
        "train_df, temp_df = train_test_split(\n",
        "    df,\n",
        "    train_size=5000,\n",
        "    random_state=42,\n",
        "    stratify=df['sentiment']\n",
        ")\n",
        "\n",
        "test_df, _ = train_test_split(\n",
        "    temp_df,\n",
        "    train_size=1000,\n",
        "    random_state=42,\n",
        "    stratify=temp_df['sentiment']\n",
        ")\n",
        "\n",
        "X_train = train_df['review'].tolist()\n",
        "y_train = train_df['sentiment'].tolist()\n",
        "X_test = test_df['review'].tolist()\n",
        "y_test = test_df['sentiment'].tolist()"
      ],
      "metadata": {
        "trusted": true,
        "execution": {
          "iopub.status.busy": "2025-08-13T15:09:36.385308Z",
          "iopub.execute_input": "2025-08-13T15:09:36.385544Z",
          "iopub.status.idle": "2025-08-13T15:09:36.481567Z",
          "shell.execute_reply.started": "2025-08-13T15:09:36.385525Z",
          "shell.execute_reply": "2025-08-13T15:09:36.480863Z"
        },
        "id": "quHaxRWje0WU"
      },
      "outputs": [],
      "execution_count": 6
    },
    {
      "cell_type": "markdown",
      "source": [
        "# Preprocessing"
      ],
      "metadata": {
        "id": "QZG1r7eue0WU"
      }
    },
    {
      "cell_type": "code",
      "source": [
        "from bs4 import BeautifulSoup\n",
        "\n",
        "#Removing the html strips\n",
        "def strip_html(text):\n",
        "    soup = BeautifulSoup(text, \"html.parser\")\n",
        "    return soup.get_text()\n",
        "\n",
        "#Removing the square brackets\n",
        "def remove_between_square_brackets(text):\n",
        "    return re.sub(r'\\[[^]]*\\]', '', text)\n",
        "\n",
        "#Removing the noisy text\n",
        "def denoise_text(text):\n",
        "    text = strip_html(text)\n",
        "    text = remove_between_square_brackets(text)\n",
        "    return text\n",
        "\n",
        "# Apply the denoising function to the training and testing data\n",
        "X_train = [denoise_text(review) for review in X_train]\n",
        "X_test = [denoise_text(review) for review in X_test]"
      ],
      "metadata": {
        "id": "onYla0YVpzVQ"
      },
      "execution_count": 7,
      "outputs": []
    },
    {
      "cell_type": "markdown",
      "source": [
        "### Tokenization & Normalization"
      ],
      "metadata": {
        "id": "1cnZhbure0WU"
      }
    },
    {
      "cell_type": "code",
      "source": [
        "import nltk\n",
        "nltk.download('punkt_tab')\n",
        "def normalize_and_tokenize(text):\n",
        "    text = text.lower()\n",
        "    text = re.sub(r'[^a-z0-9\\s]', '', text)\n",
        "    return word_tokenize(text)\n",
        "\n",
        "X_train_tokens = [normalize_and_tokenize(doc) for doc in X_train]\n",
        "X_test_tokens = [normalize_and_tokenize(doc) for doc in X_test]"
      ],
      "metadata": {
        "trusted": true,
        "execution": {
          "iopub.status.busy": "2025-08-13T15:09:36.482394Z",
          "iopub.execute_input": "2025-08-13T15:09:36.482655Z",
          "iopub.status.idle": "2025-08-13T15:09:40.810823Z",
          "shell.execute_reply.started": "2025-08-13T15:09:36.482634Z",
          "shell.execute_reply": "2025-08-13T15:09:40.810091Z"
        },
        "id": "OTM0g1bfe0WV",
        "outputId": "f3026eab-fd7b-44ed-a1e5-8f59c9c1e515",
        "colab": {
          "base_uri": "https://localhost:8080/"
        }
      },
      "outputs": [
        {
          "output_type": "stream",
          "name": "stderr",
          "text": [
            "[nltk_data] Downloading package punkt_tab to /root/nltk_data...\n",
            "[nltk_data]   Unzipping tokenizers/punkt_tab.zip.\n"
          ]
        }
      ],
      "execution_count": 8
    },
    {
      "cell_type": "markdown",
      "source": [
        "### Stemming"
      ],
      "metadata": {
        "id": "DsCxvL3ge0WV"
      }
    },
    {
      "cell_type": "code",
      "source": [
        "stemmer = PorterStemmer()\n",
        "X_train_stemmed = [[stemmer.stem(tok) for tok in doc] for doc in X_train_tokens]\n",
        "X_test_stemmed = [[stemmer.stem(tok) for tok in doc] for doc in X_test_tokens]"
      ],
      "metadata": {
        "trusted": true,
        "execution": {
          "iopub.status.busy": "2025-08-13T15:09:40.811471Z",
          "iopub.execute_input": "2025-08-13T15:09:40.81175Z",
          "iopub.status.idle": "2025-08-13T15:09:57.539629Z",
          "shell.execute_reply.started": "2025-08-13T15:09:40.811732Z",
          "shell.execute_reply": "2025-08-13T15:09:57.538763Z"
        },
        "id": "8un1sluge0WV"
      },
      "outputs": [],
      "execution_count": 9
    },
    {
      "cell_type": "markdown",
      "source": [
        "### Lemmatization"
      ],
      "metadata": {
        "id": "FTf4i5dce0WV"
      }
    },
    {
      "cell_type": "code",
      "source": [
        "nlp = spacy.load('en_core_web_sm', disable=['parser', 'ner'])\n",
        "def lemmatize(tokens):\n",
        "    doc = nlp(' '.join(tokens))\n",
        "    return [token.lemma_ for token in doc]\n",
        "\n",
        "X_train_lemmatized = [lemmatize(doc) for doc in X_train_tokens]\n",
        "X_test_lemmatized = [lemmatize(doc) for doc in X_test_tokens]"
      ],
      "metadata": {
        "trusted": true,
        "execution": {
          "iopub.status.busy": "2025-08-13T15:09:57.540534Z",
          "iopub.execute_input": "2025-08-13T15:09:57.540795Z",
          "iopub.status.idle": "2025-08-13T15:11:42.326637Z",
          "shell.execute_reply.started": "2025-08-13T15:09:57.540776Z",
          "shell.execute_reply": "2025-08-13T15:11:42.32562Z"
        },
        "id": "CXPnC9cOe0WV"
      },
      "outputs": [],
      "execution_count": 10
    },
    {
      "cell_type": "code",
      "source": [
        "X_train_text = [' '.join(doc) for doc in X_train_lemmatized]\n",
        "X_test_text = [' '.join(doc) for doc in X_test_lemmatized]"
      ],
      "metadata": {
        "trusted": true,
        "execution": {
          "iopub.status.busy": "2025-08-13T15:11:42.327747Z",
          "iopub.execute_input": "2025-08-13T15:11:42.32883Z",
          "iopub.status.idle": "2025-08-13T15:11:42.367842Z",
          "shell.execute_reply.started": "2025-08-13T15:11:42.328807Z",
          "shell.execute_reply": "2025-08-13T15:11:42.367198Z"
        },
        "id": "6sTwr5cre0WV"
      },
      "outputs": [],
      "execution_count": 11
    },
    {
      "cell_type": "markdown",
      "source": [
        "### One-Hot Encoding"
      ],
      "metadata": {
        "id": "bQehC9Xee0WV"
      }
    },
    {
      "cell_type": "code",
      "source": [
        "ohe = CountVectorizer(binary=True)\n",
        "X_train_ohe = ohe.fit_transform(X_train_text)\n",
        "X_test_ohe = ohe.transform(X_test_text)"
      ],
      "metadata": {
        "trusted": true,
        "execution": {
          "iopub.status.busy": "2025-08-13T15:13:30.468346Z",
          "iopub.execute_input": "2025-08-13T15:13:30.468676Z",
          "iopub.status.idle": "2025-08-13T15:13:31.380829Z",
          "shell.execute_reply.started": "2025-08-13T15:13:30.468652Z",
          "shell.execute_reply": "2025-08-13T15:13:31.380156Z"
        },
        "id": "UOPFaO1ce0WW"
      },
      "outputs": [],
      "execution_count": 12
    },
    {
      "cell_type": "code",
      "source": [
        "feature_names = ohe.get_feature_names_out()\n",
        "\n",
        "print(\"Example processed text:\", X_train_text[0])\n",
        "\n",
        "print(\"\\nWords present in first review (One-Hot Encoding):\")\n",
        "vector_values = X_train_ohe[0].toarray()[0]\n",
        "\n",
        "present_words = [feature_names[i] for i, val in enumerate(vector_values) if val == 1]\n",
        "print(present_words)"
      ],
      "metadata": {
        "trusted": true,
        "execution": {
          "iopub.status.busy": "2025-08-13T15:18:31.257662Z",
          "iopub.execute_input": "2025-08-13T15:18:31.258387Z",
          "iopub.status.idle": "2025-08-13T15:18:31.296553Z",
          "shell.execute_reply.started": "2025-08-13T15:18:31.258362Z",
          "shell.execute_reply": "2025-08-13T15:18:31.29579Z"
        },
        "id": "3f8iiSwTe0WW",
        "colab": {
          "base_uri": "https://localhost:8080/"
        },
        "outputId": "9eba9a9c-40e2-4ff9-b949-c19780f3ad4c"
      },
      "outputs": [
        {
          "output_type": "stream",
          "name": "stdout",
          "text": [
            "Example processed text: I get the dvd very cheap and I m a total drewbie and that s probably the only constellation where this movie could ever interest anyonean early draw movie she s look great and she get a quite lot of really cute scene of she like a shower scene a sexy dance scene quite a number of sexy outfit etc she do never show the friendly charm we know from her more recent moviesthe movie itself be pretty average or subaverage and much more look like be make for the tv than one for the cinema there be no real horror or tension build up and the dialog be often cheesythe most interesting part be probably the end because I honestly do not understand it but maybe there be nothing to understand about it anyway but at least you do not get the end you would be expect and it also come much soon than one would have expectedoverall I think this movie be exclusively for drewbie\n",
            "\n",
            "Words present in first review (One-Hot Encoding):\n",
            "['about', 'also', 'and', 'anyonean', 'anyway', 'at', 'average', 'be', 'because', 'build', 'but', 'charm', 'cheap', 'cheesythe', 'cinema', 'come', 'constellation', 'could', 'cute', 'dance', 'dialog', 'do', 'draw', 'drewbie', 'dvd', 'early', 'end', 'etc', 'ever', 'exclusively', 'expect', 'expectedoverall', 'for', 'friendly', 'from', 'get', 'great', 'have', 'her', 'honestly', 'horror', 'interest', 'interesting', 'it', 'itself', 'know', 'least', 'like', 'look', 'lot', 'make', 'maybe', 'more', 'most', 'movie', 'moviesthe', 'much', 'never', 'no', 'not', 'nothing', 'number', 'of', 'often', 'one', 'only', 'or', 'outfit', 'part', 'pretty', 'probably', 'quite', 'real', 'really', 'recent', 'scene', 'sexy', 'she', 'show', 'shower', 'soon', 'subaverage', 'tension', 'than', 'that', 'the', 'there', 'think', 'this', 'to', 'total', 'tv', 'understand', 'up', 'very', 'we', 'where', 'would', 'you']\n"
          ]
        }
      ],
      "execution_count": 13
    },
    {
      "cell_type": "markdown",
      "source": [
        "### Bag-of-Words"
      ],
      "metadata": {
        "id": "34F2_2yNe0WW"
      }
    },
    {
      "cell_type": "code",
      "source": [
        "bow = CountVectorizer(binary=False)\n",
        "X_train_bow = bow.fit_transform(X_train_text)\n",
        "X_test_bow = bow.transform(X_test_text)"
      ],
      "metadata": {
        "trusted": true,
        "execution": {
          "iopub.status.busy": "2025-08-13T15:11:43.310303Z",
          "iopub.execute_input": "2025-08-13T15:11:43.310632Z",
          "iopub.status.idle": "2025-08-13T15:11:44.239438Z",
          "shell.execute_reply.started": "2025-08-13T15:11:43.310567Z",
          "shell.execute_reply": "2025-08-13T15:11:44.238866Z"
        },
        "id": "yWL8uY5Me0WW"
      },
      "outputs": [],
      "execution_count": 14
    },
    {
      "cell_type": "code",
      "source": [
        "feature_names = bow.get_feature_names_out()\n",
        "\n",
        "vector_values = X_train_bow[0].toarray()[0]\n",
        "\n",
        "df_bow_first_review = pd.DataFrame({\n",
        "    'word': feature_names,\n",
        "    'count': vector_values\n",
        "})\n",
        "\n",
        "print(\"Example processed text:\", X_train_text[0])\n",
        "print(\"\\nBOW vector (first review):\")\n",
        "print(df_bow_first_review)"
      ],
      "metadata": {
        "trusted": true,
        "execution": {
          "iopub.status.busy": "2025-08-13T15:20:16.373854Z",
          "iopub.execute_input": "2025-08-13T15:20:16.374142Z",
          "iopub.status.idle": "2025-08-13T15:20:16.413634Z",
          "shell.execute_reply.started": "2025-08-13T15:20:16.37412Z",
          "shell.execute_reply": "2025-08-13T15:20:16.412807Z"
        },
        "id": "gurw8myxe0WW",
        "colab": {
          "base_uri": "https://localhost:8080/"
        },
        "outputId": "7d1c7918-9e64-4ea9-bbc2-d19ce9cb572f"
      },
      "outputs": [
        {
          "output_type": "stream",
          "name": "stdout",
          "text": [
            "Example processed text: I get the dvd very cheap and I m a total drewbie and that s probably the only constellation where this movie could ever interest anyonean early draw movie she s look great and she get a quite lot of really cute scene of she like a shower scene a sexy dance scene quite a number of sexy outfit etc she do never show the friendly charm we know from her more recent moviesthe movie itself be pretty average or subaverage and much more look like be make for the tv than one for the cinema there be no real horror or tension build up and the dialog be often cheesythe most interesting part be probably the end because I honestly do not understand it but maybe there be nothing to understand about it anyway but at least you do not get the end you would be expect and it also come much soon than one would have expectedoverall I think this movie be exclusively for drewbie\n",
            "\n",
            "BOW vector (first review):\n",
            "                     word  count\n",
            "0                      00      0\n",
            "1                     007      0\n",
            "2                      01      0\n",
            "3                     010      0\n",
            "4               010guinea      0\n",
            "...                   ...    ...\n",
            "46695              zweite      0\n",
            "46696              zwrite      0\n",
            "46697                  zz      0\n",
            "46698               zzzzz      0\n",
            "46699  zzzzzzzzzzzzzzzzzz      0\n",
            "\n",
            "[46700 rows x 2 columns]\n"
          ]
        }
      ],
      "execution_count": 15
    },
    {
      "cell_type": "markdown",
      "source": [
        "### TF-IDF"
      ],
      "metadata": {
        "id": "SO6YzhDBe0WW"
      }
    },
    {
      "cell_type": "code",
      "source": [
        "tfidf = TfidfVectorizer()\n",
        "X_train_tfidf = tfidf.fit_transform(X_train_text)\n",
        "X_test_tfidf = tfidf.transform(X_test_text)"
      ],
      "metadata": {
        "trusted": true,
        "execution": {
          "iopub.status.busy": "2025-08-13T15:11:44.240017Z",
          "iopub.execute_input": "2025-08-13T15:11:44.240252Z",
          "iopub.status.idle": "2025-08-13T15:11:45.205786Z",
          "shell.execute_reply.started": "2025-08-13T15:11:44.240235Z",
          "shell.execute_reply": "2025-08-13T15:11:45.205126Z"
        },
        "id": "nzD84apne0WW"
      },
      "outputs": [],
      "execution_count": 16
    },
    {
      "cell_type": "code",
      "source": [
        "feature_names = tfidf.get_feature_names_out()\n",
        "\n",
        "vector_values = X_train_tfidf[0].toarray()[0]\n",
        "\n",
        "df_tfidf_first_review = pd.DataFrame({\n",
        "    'word': feature_names,\n",
        "    'tfidf': vector_values\n",
        "})\n",
        "\n",
        "df_tfidf_first_review = df_tfidf_first_review.sort_values(by='tfidf', ascending=False)\n",
        "\n",
        "print(\"Example processed text:\", X_train_text[0])\n",
        "print(\"\\nTF-IDF vector (first review):\")\n",
        "print(df_tfidf_first_review)"
      ],
      "metadata": {
        "trusted": true,
        "execution": {
          "iopub.status.busy": "2025-08-13T15:21:12.523291Z",
          "iopub.execute_input": "2025-08-13T15:21:12.524172Z",
          "iopub.status.idle": "2025-08-13T15:21:12.568279Z",
          "shell.execute_reply.started": "2025-08-13T15:21:12.524138Z",
          "shell.execute_reply": "2025-08-13T15:21:12.56735Z"
        },
        "id": "GsoGDrtie0WW",
        "colab": {
          "base_uri": "https://localhost:8080/"
        },
        "outputId": "5ca8ba46-8c19-4dc8-ea1b-0427ecd7f2af"
      },
      "outputs": [
        {
          "output_type": "stream",
          "name": "stdout",
          "text": [
            "Example processed text: I get the dvd very cheap and I m a total drewbie and that s probably the only constellation where this movie could ever interest anyonean early draw movie she s look great and she get a quite lot of really cute scene of she like a shower scene a sexy dance scene quite a number of sexy outfit etc she do never show the friendly charm we know from her more recent moviesthe movie itself be pretty average or subaverage and much more look like be make for the tv than one for the cinema there be no real horror or tension build up and the dialog be often cheesythe most interesting part be probably the end because I honestly do not understand it but maybe there be nothing to understand about it anyway but at least you do not get the end you would be expect and it also come much soon than one would have expectedoverall I think this movie be exclusively for drewbie\n",
            "\n",
            "TF-IDF vector (first review):\n",
            "                  word     tfidf\n",
            "12228          drewbie  0.355016\n",
            "36772             sexy  0.211978\n",
            "36931              she  0.196527\n",
            "7445         cheesythe  0.177508\n",
            "14134  expectedoverall  0.177508\n",
            "...                ...       ...\n",
            "15586     flickssureit  0.000000\n",
            "15587        flicksthe  0.000000\n",
            "15588       flickswith  0.000000\n",
            "15589        flickwell  0.000000\n",
            "15578       flicknothe  0.000000\n",
            "\n",
            "[46700 rows x 2 columns]\n"
          ]
        }
      ],
      "execution_count": 17
    },
    {
      "cell_type": "code",
      "source": [
        "print(\"OHE shape:\", X_train_ohe.shape, X_test_ohe.shape)\n",
        "print(\"BOW shape:\", X_train_bow.shape, X_test_bow.shape)\n",
        "print(\"TF-IDF shape:\", X_train_tfidf.shape, X_test_tfidf.shape)"
      ],
      "metadata": {
        "trusted": true,
        "execution": {
          "iopub.status.busy": "2025-08-13T15:11:45.206657Z",
          "iopub.execute_input": "2025-08-13T15:11:45.206969Z",
          "iopub.status.idle": "2025-08-13T15:11:45.212033Z",
          "shell.execute_reply.started": "2025-08-13T15:11:45.206944Z",
          "shell.execute_reply": "2025-08-13T15:11:45.211197Z"
        },
        "id": "fWGj04aje0WW",
        "colab": {
          "base_uri": "https://localhost:8080/"
        },
        "outputId": "6e06d57b-25ef-4ba7-d581-85c7e1cfdf39"
      },
      "outputs": [
        {
          "output_type": "stream",
          "name": "stdout",
          "text": [
            "OHE shape: (5000, 46700) (1000, 46700)\n",
            "BOW shape: (5000, 46700) (1000, 46700)\n",
            "TF-IDF shape: (5000, 46700) (1000, 46700)\n"
          ]
        }
      ],
      "execution_count": 18
    },
    {
      "cell_type": "markdown",
      "source": [
        "#Import Libraries"
      ],
      "metadata": {
        "id": "MpNhILlvAHuc"
      }
    },
    {
      "cell_type": "code",
      "source": [
        "import tensorflow as tf\n",
        "from tensorflow.keras.models import Sequential\n",
        "from tensorflow.keras.layers import Dense, Dropout"
      ],
      "metadata": {
        "id": "EY2vB_aGANrM"
      },
      "execution_count": 19,
      "outputs": []
    },
    {
      "cell_type": "markdown",
      "source": [
        "#Define and Compile The Model"
      ],
      "metadata": {
        "id": "GfxUXiLcATpm"
      }
    },
    {
      "cell_type": "code",
      "source": [
        "# Define the model\n",
        "model = Sequential()\n",
        "model.add(Dense(128, input_shape=(X_train_tfidf.shape[1],), activation='relu'))\n",
        "model.add(Dropout(0.5))\n",
        "model.add(Dense(64, activation='relu'))\n",
        "model.add(Dropout(0.5))\n",
        "model.add(Dense(1, activation='sigmoid')) # Sigmoid for binary classification\n",
        "\n",
        "# Compile the model\n",
        "model.compile(loss='binary_crossentropy',\n",
        "              optimizer='adam',\n",
        "              metrics=['accuracy'])\n",
        "\n",
        "# Convert target variable to numerical\n",
        "y_train_numerical = (train_df['sentiment'] == 'positive').astype(int)\n",
        "y_test_numerical = (test_df['sentiment'] == 'positive').astype(int)"
      ],
      "metadata": {
        "id": "iogpWCJLAXHk",
        "colab": {
          "base_uri": "https://localhost:8080/"
        },
        "outputId": "bb81b213-d643-4c51-b0ce-e1281aa327a2"
      },
      "execution_count": 20,
      "outputs": [
        {
          "output_type": "stream",
          "name": "stderr",
          "text": [
            "/usr/local/lib/python3.12/dist-packages/keras/src/layers/core/dense.py:93: UserWarning: Do not pass an `input_shape`/`input_dim` argument to a layer. When using Sequential models, prefer using an `Input(shape)` object as the first layer in the model instead.\n",
            "  super().__init__(activity_regularizer=activity_regularizer, **kwargs)\n"
          ]
        }
      ]
    },
    {
      "cell_type": "markdown",
      "source": [
        "#Train and Evaluate the model\n"
      ],
      "metadata": {
        "id": "ZCSQbKRfAaKM"
      }
    },
    {
      "cell_type": "code",
      "source": [
        "history = model.fit(X_train_tfidf, y_train_numerical,\n",
        "                    epochs=10,\n",
        "                    batch_size=32,\n",
        "                    validation_data=(X_test_tfidf, y_test_numerical),\n",
        "                    verbose=1)\n",
        "loss, accuracy = model.evaluate(X_test_tfidf, y_test_numerical, verbose=0)\n",
        "print(f\"Test Loss: {loss:.4f}\")\n",
        "print(f\"Test Accuracy: {accuracy:.4f}\")"
      ],
      "metadata": {
        "id": "wXnXQ0XOAcS0",
        "colab": {
          "base_uri": "https://localhost:8080/"
        },
        "outputId": "2211c94f-9818-48a1-b36e-5028205d8364"
      },
      "execution_count": 23,
      "outputs": [
        {
          "output_type": "stream",
          "name": "stdout",
          "text": [
            "Epoch 1/10\n",
            "\u001b[1m157/157\u001b[0m \u001b[32m━━━━━━━━━━━━━━━━━━━━\u001b[0m\u001b[37m\u001b[0m \u001b[1m214s\u001b[0m 1s/step - accuracy: 0.6808 - loss: 0.6284 - val_accuracy: 0.8630 - val_loss: 0.3309\n",
            "Epoch 2/10\n",
            "\u001b[1m157/157\u001b[0m \u001b[32m━━━━━━━━━━━━━━━━━━━━\u001b[0m\u001b[37m\u001b[0m \u001b[1m228s\u001b[0m 1s/step - accuracy: 0.9477 - loss: 0.1711 - val_accuracy: 0.8570 - val_loss: 0.3490\n",
            "Epoch 3/10\n",
            "\u001b[1m157/157\u001b[0m \u001b[32m━━━━━━━━━━━━━━━━━━━━\u001b[0m\u001b[37m\u001b[0m \u001b[1m189s\u001b[0m 1s/step - accuracy: 0.9904 - loss: 0.0461 - val_accuracy: 0.8450 - val_loss: 0.4228\n",
            "Epoch 4/10\n",
            "\u001b[1m157/157\u001b[0m \u001b[32m━━━━━━━━━━━━━━━━━━━━\u001b[0m\u001b[37m\u001b[0m \u001b[1m153s\u001b[0m 894ms/step - accuracy: 0.9988 - loss: 0.0128 - val_accuracy: 0.8380 - val_loss: 0.4907\n",
            "Epoch 5/10\n",
            "\u001b[1m157/157\u001b[0m \u001b[32m━━━━━━━━━━━━━━━━━━━━\u001b[0m\u001b[37m\u001b[0m \u001b[1m137s\u001b[0m 854ms/step - accuracy: 0.9994 - loss: 0.0058 - val_accuracy: 0.8370 - val_loss: 0.5302\n",
            "Epoch 6/10\n",
            "\u001b[1m157/157\u001b[0m \u001b[32m━━━━━━━━━━━━━━━━━━━━\u001b[0m\u001b[37m\u001b[0m \u001b[1m124s\u001b[0m 739ms/step - accuracy: 0.9996 - loss: 0.0033 - val_accuracy: 0.8380 - val_loss: 0.5630\n",
            "Epoch 7/10\n",
            "\u001b[1m157/157\u001b[0m \u001b[32m━━━━━━━━━━━━━━━━━━━━\u001b[0m\u001b[37m\u001b[0m \u001b[1m115s\u001b[0m 726ms/step - accuracy: 0.9999 - loss: 0.0019 - val_accuracy: 0.8330 - val_loss: 0.5910\n",
            "Epoch 8/10\n",
            "\u001b[1m157/157\u001b[0m \u001b[32m━━━━━━━━━━━━━━━━━━━━\u001b[0m\u001b[37m\u001b[0m \u001b[1m123s\u001b[0m 612ms/step - accuracy: 1.0000 - loss: 0.0013 - val_accuracy: 0.8360 - val_loss: 0.6125\n",
            "Epoch 9/10\n",
            "\u001b[1m157/157\u001b[0m \u001b[32m━━━━━━━━━━━━━━━━━━━━\u001b[0m\u001b[37m\u001b[0m \u001b[1m162s\u001b[0m 731ms/step - accuracy: 0.9999 - loss: 8.1875e-04 - val_accuracy: 0.8320 - val_loss: 0.6264\n",
            "Epoch 10/10\n",
            "\u001b[1m157/157\u001b[0m \u001b[32m━━━━━━━━━━━━━━━━━━━━\u001b[0m\u001b[37m\u001b[0m \u001b[1m110s\u001b[0m 534ms/step - accuracy: 1.0000 - loss: 7.9841e-04 - val_accuracy: 0.8360 - val_loss: 0.6461\n"
          ]
        }
      ]
    },
    {
      "cell_type": "code",
      "source": [
        "loss, accuracy = model.evaluate(X_test_tfidf, y_test_numerical, verbose=0)\n",
        "print(f\"Test Loss: {loss:.4f}\")\n",
        "print(f\"Test Accuracy: {accuracy:.4f}\")"
      ],
      "metadata": {
        "colab": {
          "base_uri": "https://localhost:8080/"
        },
        "id": "E1p0I6CErGu2",
        "outputId": "ecc1fbaf-c30f-4378-80df-7fef853681d3"
      },
      "execution_count": 24,
      "outputs": [
        {
          "output_type": "stream",
          "name": "stdout",
          "text": [
            "Test Loss: 0.6461\n",
            "Test Accuracy: 0.8360\n"
          ]
        }
      ]
    },
    {
      "cell_type": "code",
      "source": [
        "model.save(\"sentiment_model.h5\")\n"
      ],
      "metadata": {
        "colab": {
          "base_uri": "https://localhost:8080/"
        },
        "id": "EjBPUvhJrHGl",
        "outputId": "6f8a7ff0-a7ce-4f0c-9c31-7ad84e9078d3"
      },
      "execution_count": 25,
      "outputs": [
        {
          "output_type": "stream",
          "name": "stderr",
          "text": [
            "WARNING:absl:You are saving your model as an HDF5 file via `model.save()` or `keras.saving.save_model(model)`. This file format is considered legacy. We recommend using instead the native Keras format, e.g. `model.save('my_model.keras')` or `keras.saving.save_model(model, 'my_model.keras')`. \n"
          ]
        }
      ]
    },
    {
      "cell_type": "code",
      "source": [
        "import pickle\n",
        "with open('tfidf_vectorizer.pkl', 'wb') as f:\n",
        "    pickle.dump(tfidf, f)"
      ],
      "metadata": {
        "id": "i5ERUzDqrXAb"
      },
      "execution_count": 39,
      "outputs": []
    },
    {
      "cell_type": "code",
      "source": [
        "!streamlit run app.py --server.port 8502"
      ],
      "metadata": {
        "colab": {
          "base_uri": "https://localhost:8080/"
        },
        "id": "eARSetmEuLNs",
        "outputId": "768b505e-ea9f-4ad5-e88e-a304ac1de8f3"
      },
      "execution_count": null,
      "outputs": [
        {
          "output_type": "stream",
          "name": "stdout",
          "text": [
            "\n",
            "Collecting usage statistics. To deactivate, set browser.gatherUsageStats to false.\n",
            "\u001b[0m\n",
            "\u001b[0m\n",
            "\u001b[34m\u001b[1m  You can now view your Streamlit app in your browser.\u001b[0m\n",
            "\u001b[0m\n",
            "\u001b[34m  Local URL: \u001b[0m\u001b[1mhttp://localhost:8502\u001b[0m\n",
            "\u001b[34m  Network URL: \u001b[0m\u001b[1mhttp://172.28.0.12:8502\u001b[0m\n",
            "\u001b[34m  External URL: \u001b[0m\u001b[1mhttp://35.197.155.236:8502\u001b[0m\n",
            "\u001b[0m\n"
          ]
        }
      ]
    },
    {
      "cell_type": "code",
      "source": [],
      "metadata": {
        "id": "LpbyabYTu2wX"
      },
      "execution_count": null,
      "outputs": []
    }
  ]
}